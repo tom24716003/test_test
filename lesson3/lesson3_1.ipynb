{
 "cells": [
  {
   "cell_type": "markdown",
   "id": "ddf5c77f",
   "metadata": {},
   "source": [
    "### 數值運算(int,float)\n",
    "### 數學運算子\n",
    "### 運算子運算順序\n",
    "\n",
    "\n"
   ]
  },
  {
   "cell_type": "code",
   "execution_count": 1,
   "id": "25d9352e",
   "metadata": {},
   "outputs": [
    {
     "data": {
      "text/plain": [
       "25"
      ]
     },
     "execution_count": 1,
     "metadata": {},
     "output_type": "execute_result"
    }
   ],
   "source": [
    "5+10\n",
    "20+5"
   ]
  },
  {
   "cell_type": "code",
   "execution_count": 2,
   "id": "4423dcb9",
   "metadata": {},
   "outputs": [
    {
     "data": {
      "text/plain": [
       "10"
      ]
     },
     "execution_count": 2,
     "metadata": {},
     "output_type": "execute_result"
    }
   ],
   "source": [
    "2 * (1 + 2) ** 2 - 2 ** 2 * 2"
   ]
  },
  {
   "cell_type": "code",
   "execution_count": 3,
   "id": "259e3cc0",
   "metadata": {},
   "outputs": [
    {
     "data": {
      "text/plain": [
       "25"
      ]
     },
     "execution_count": 3,
     "metadata": {},
     "output_type": "execute_result"
    }
   ],
   "source": [
    "5 + 10 #運算式\n",
    "20 + 5 #運算式"
   ]
  },
  {
   "cell_type": "markdown",
   "id": "a4a130cc",
   "metadata": {},
   "source": [
    "### 建立變數\n",
    "依靠指定運算子"
   ]
  },
  {
   "cell_type": "code",
   "execution_count": 4,
   "id": "9b126e85",
   "metadata": {},
   "outputs": [
    {
     "name": "stdout",
     "output_type": "stream",
     "text": [
      "total= 40\n"
     ]
    }
   ],
   "source": [
    "n = 15 #敘述式\n",
    "m = 25 #敘述式\n",
    "total = n + m #敘述式\n",
    "print(\"total=\", total) # 敘述式\n",
    "\n"
   ]
  },
  {
   "cell_type": "code",
   "execution_count": 5,
   "id": "5a322250",
   "metadata": {},
   "outputs": [
    {
     "name": "stdout",
     "output_type": "stream",
     "text": [
      "15 25\n"
     ]
    }
   ],
   "source": [
    "x = 5 + 10\n",
    "y = 20 + 5\n",
    "print(x, y)\n"
   ]
  },
  {
   "cell_type": "markdown",
   "id": "ad9f7847",
   "metadata": {},
   "source": [
    "### 輸入\n",
    "- input()\n",
    "### 輸出\n",
    "- input()"
   ]
  },
  {
   "cell_type": "code",
   "execution_count": 6,
   "id": "171bde8f",
   "metadata": {},
   "outputs": [
    {
     "name": "stdout",
     "output_type": "stream",
     "text": [
      "您輸入的是整數: 20\n"
     ]
    }
   ],
   "source": [
    "value_str = input(\"請輸入整數:\")\n",
    "value = int(value_str)\n",
    "print(\"您輸入的是整數:\", value)\n"
   ]
  },
  {
   "cell_type": "code",
   "execution_count": 7,
   "id": "5eaeaea1",
   "metadata": {},
   "outputs": [
    {
     "name": "stdout",
     "output_type": "stream",
     "text": [
      "2數相加的合是: 24112\n"
     ]
    }
   ],
   "source": [
    "value1 = int(input(\"請輸入第1個整數:\"))\n",
    "value2 = int(input(\"請輸入第2個整數:\"))\n",
    "total = value1 + value2\n",
    "print(\"2數相加的合是:\", total)"
   ]
  },
  {
   "cell_type": "code",
   "execution_count": 8,
   "id": "b5a41a09",
   "metadata": {},
   "outputs": [
    {
     "name": "stdout",
     "output_type": "stream",
     "text": [
      "矩形寬是: 42\n",
      "矩形高是: 1.24\n",
      "矩形面積是: 52.08\n"
     ]
    }
   ],
   "source": [
    "width = eval(input(\"請輸入矩形寬:\"))\n",
    "height = eval(input(\"請輸入矩形高:\"))\n",
    "area = width * height\n",
    "print(\"矩形寬是:\",width)\n",
    "print(\"矩形高是:\",height)\n",
    "print(\"矩形面積是:\",area)"
   ]
  },
  {
   "cell_type": "code",
   "execution_count": null,
   "id": "ff1213bb",
   "metadata": {},
   "outputs": [],
   "source": []
  }
 ],
 "metadata": {
  "kernelspec": {
   "display_name": "Python 3",
   "language": "python",
   "name": "python3"
  },
  "language_info": {
   "codemirror_mode": {
    "name": "ipython",
    "version": 3
   },
   "file_extension": ".py",
   "mimetype": "text/x-python",
   "name": "python",
   "nbconvert_exporter": "python",
   "pygments_lexer": "ipython3",
   "version": "3.12.1"
  }
 },
 "nbformat": 4,
 "nbformat_minor": 5
}
