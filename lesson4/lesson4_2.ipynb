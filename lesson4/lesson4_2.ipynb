{
 "cells": [
  {
   "cell_type": "code",
   "execution_count": 1,
   "id": "d27c5e0a",
   "metadata": {},
   "outputs": [
    {
     "name": "stdout",
     "output_type": "stream",
     "text": [
      "應用程式結束\n"
     ]
    }
   ],
   "source": [
    "#單項選擇,有可能執行,也有可能不執行\n",
    "if False:\n",
    "    print(\"這是True的程式區塊\")\n",
    "    print(\"現在是True\")\n",
    "print(\"應用程式結束\")"
   ]
  },
  {
   "cell_type": "code",
   "execution_count": 2,
   "id": "4d51094b",
   "metadata": {},
   "outputs": [
    {
     "name": "stdout",
     "output_type": "stream",
     "text": [
      "這是True的程式區塊\n",
      "現在是True\n",
      "應用程式結束\n"
     ]
    }
   ],
   "source": [
    "#雙項選擇,一定執行其中一個程式區塊\n",
    "#只要有else,一定執行其中一個程式區塊\n",
    "if True:\n",
    "    print(\"這是True的程式區塊\")\n",
    "    print(\"現在是True\")\n",
    "else:\n",
    "    print(\"這是False的程式區塊\")\n",
    "    print(\"現在是False\")\n",
    "print(\"應用程式結束\")"
   ]
  },
  {
   "cell_type": "code",
   "execution_count": 3,
   "id": "7685272f",
   "metadata": {},
   "outputs": [
    {
     "name": "stdout",
     "output_type": "stream",
     "text": [
      "可以考駕照\n"
     ]
    }
   ],
   "source": [
    "age:int = int(input(\"請輸入age:\"))\n",
    "if age >= 18:\n",
    "    print(\"可以考駕照\")\n",
    "else:\n",
    "    print(\"不可以考駕照\")"
   ]
  },
  {
   "cell_type": "code",
   "execution_count": 4,
   "id": "4b8045b9",
   "metadata": {},
   "outputs": [
    {
     "name": "stdout",
     "output_type": "stream",
     "text": [
      "300\n"
     ]
    }
   ],
   "source": [
    "#學生總分為300\n",
    "#有些學生可以加分5%\n",
    "\n",
    "scores:int = int(input(\"請輸入學生分數(最高300分):\"))\n",
    "is_add:str = input(\"學生是否符合加分條件?(y,n)\")\n",
    "if(is_add == \"y\"):\n",
    "    scores *= 1.05\n",
    "    if scores > 300:\n",
    "        scores = 300\n",
    "print(round(scores))"
   ]
  },
  {
   "cell_type": "code",
   "execution_count": 5,
   "id": "557413dd",
   "metadata": {},
   "outputs": [
    {
     "name": "stdout",
     "output_type": "stream",
     "text": [
      "300\n"
     ]
    }
   ],
   "source": [
    "#學生總分為300\n",
    "#有些學生可以加分5%\n",
    "try:\n",
    "    scores:int = int(input(\"請輸入學生分數(最高300分):\"))\n",
    "    is_add:str = input(\"學生是否符合加分條件?(y,n)\")\n",
    "    if(is_add == \"y\"):\n",
    "        scores *= 1.05\n",
    "        if scores > 300:\n",
    "            scores = 300    \n",
    "except:\n",
    "    print(\"輸入有錯誤\")\n",
    "print(round(scores))"
   ]
  },
  {
   "cell_type": "code",
   "execution_count": 7,
   "id": "9facd143",
   "metadata": {},
   "outputs": [
    {
     "name": "stdout",
     "output_type": "stream",
     "text": [
      "輸入分數超過300\n",
      "應用程式結束\n"
     ]
    }
   ],
   "source": [
    "#學生總分為300\n",
    "#有些學生可以加分5%\n",
    "try:\n",
    "    scores:int = int(input(\"請輸入學生分數(最高300分):\"))\n",
    "    if scores > 300:\n",
    "        raise Exception(\"輸入分數超過300\") #自已raise錯誤\n",
    "    is_add:str = input(\"學生是否符合加分條件?(y,n)\")\n",
    "    if(is_add == \"y\"):\n",
    "        scores *= 1.05\n",
    "        if scores > 300:\n",
    "            scores = 300    \n",
    "except ValueError:\n",
    "    print(\"輸入有錯誤\")\n",
    "except Exception as e:\n",
    "    print(e)\n",
    "else:\n",
    "    print(round(scores))\n",
    "print(\"應用程式結束\")"
   ]
  },
  {
   "cell_type": "code",
   "execution_count": 8,
   "id": "48c9f7db",
   "metadata": {},
   "outputs": [
    {
     "name": "stdout",
     "output_type": "stream",
     "text": [
      "不及格\n"
     ]
    }
   ],
   "source": [
    "scores = int(input(\"score:\"))\n",
    "if scores >= 80:\n",
    "    print(\"優\")\n",
    "else:\n",
    "    if scores >= 60:\n",
    "        print(\"甲\")\n",
    "    else:\n",
    "        print(\"不及格\")"
   ]
  },
  {
   "cell_type": "code",
   "execution_count": 9,
   "id": "a799e5b6",
   "metadata": {},
   "outputs": [
    {
     "name": "stdout",
     "output_type": "stream",
     "text": [
      "優\n"
     ]
    }
   ],
   "source": [
    "#多項選擇\n",
    "scores = int(input(\"score:\"))\n",
    "if scores >= 80:\n",
    "    print(\"優\")\n",
    "elif scores >= 60:    \n",
    "    print(\"甲\")\n",
    "else:\n",
    "    print(\"不及格\")"
   ]
  }
 ],
 "metadata": {
  "kernelspec": {
   "display_name": "Python 3",
   "language": "python",
   "name": "python3"
  },
  "language_info": {
   "codemirror_mode": {
    "name": "ipython",
    "version": 3
   },
   "file_extension": ".py",
   "mimetype": "text/x-python",
   "name": "python",
   "nbconvert_exporter": "python",
   "pygments_lexer": "ipython3",
   "version": "3.12.1"
  }
 },
 "nbformat": 4,
 "nbformat_minor": 5
}
