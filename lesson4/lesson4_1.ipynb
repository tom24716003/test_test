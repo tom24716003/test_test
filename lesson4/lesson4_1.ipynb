{
 "cells": [
  {
   "cell_type": "code",
   "execution_count": 1,
   "id": "96bb87c1",
   "metadata": {},
   "outputs": [
    {
     "name": "stdout",
     "output_type": "stream",
     "text": [
      "您的身高是:178公分\n",
      "您的體重是:80公斤\n",
      "您的BMI結果是:25.25\n"
     ]
    }
   ],
   "source": [
    "height = eval(input(\"請輸入您的身高(公分):\"))\n",
    "weight = eval(input(\"請輸入您的體重(公斤):\"))\n",
    "\n",
    "BMI = weight/(height/100)**2\n",
    "\n",
    "print(f\"您的身高是:{height}公分\")\n",
    "print(f\"您的體重是:{weight}公斤\")\n",
    "print(f\"您的BMI結果是:{BMI:.2f}\")\n"
   ]
  }
 ],
 "metadata": {
  "kernelspec": {
   "display_name": "Python 3",
   "language": "python",
   "name": "python3"
  },
  "language_info": {
   "codemirror_mode": {
    "name": "ipython",
    "version": 3
   },
   "file_extension": ".py",
   "mimetype": "text/x-python",
   "name": "python",
   "nbconvert_exporter": "python",
   "pygments_lexer": "ipython3",
   "version": "3.12.1"
  }
 },
 "nbformat": 4,
 "nbformat_minor": 5
}
