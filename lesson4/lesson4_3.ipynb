{
 "cells": [
  {
   "cell_type": "code",
   "execution_count": 1,
   "id": "7e479a8f",
   "metadata": {},
   "outputs": [
    {
     "name": "stdout",
     "output_type": "stream",
     "text": [
      "數值在120~220\n"
     ]
    }
   ],
   "source": [
    "value:int = int(input(\"請輸入一個數值:\"))\n",
    "if value >= 120:\n",
    "    if value <= 220:\n",
    "        print(\"數值在120~220\")"
   ]
  },
  {
   "cell_type": "code",
   "execution_count": 2,
   "id": "cf7acf14",
   "metadata": {},
   "outputs": [],
   "source": [
    "value:int = int(input(\"請輸入一個數值:\"))\n",
    "if value < 120:\n",
    "    print(\"小於120\")\n",
    "    \n",
    "if value > 220:\n",
    "    print(\"大於220\")"
   ]
  },
  {
   "cell_type": "code",
   "execution_count": 3,
   "id": "904b0a0e",
   "metadata": {},
   "outputs": [
    {
     "name": "stdout",
     "output_type": "stream",
     "text": [
      "數值在120~220\n"
     ]
    }
   ],
   "source": [
    "value:int = int(input(\"請輸入一個數值:\"))\n",
    "if value >= 120 and value <= 220: #使用邏輯運算子\n",
    "    print(\"數值在120~220\")\n",
    "    "
   ]
  },
  {
   "cell_type": "code",
   "execution_count": 4,
   "id": "dffd5c36",
   "metadata": {},
   "outputs": [],
   "source": [
    "value:int = int(input(\"請輸入一個數值:\"))\n",
    "if value < 120 or value > 220:\n",
    "    print(\"小於120或者大於220\")\n",
    "    "
   ]
  }
 ],
 "metadata": {
  "kernelspec": {
   "display_name": "Python 3",
   "language": "python",
   "name": "python3"
  },
  "language_info": {
   "codemirror_mode": {
    "name": "ipython",
    "version": 3
   },
   "file_extension": ".py",
   "mimetype": "text/x-python",
   "name": "python",
   "nbconvert_exporter": "python",
   "pygments_lexer": "ipython3",
   "version": "3.12.1"
  }
 },
 "nbformat": 4,
 "nbformat_minor": 5
}
