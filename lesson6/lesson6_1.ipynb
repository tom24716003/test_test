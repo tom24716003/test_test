{
 "cells": [
  {
   "cell_type": "code",
   "execution_count": null,
   "id": "d2855c8d",
   "metadata": {},
   "outputs": [],
   "source": [
    "# BMI計算\n",
    "try:\n",
    "    height:int | float = int(input('請輸入你的身高(公分 cm):'))\n",
    "    if height < 120 or height > 220:\n",
    "        raise Exception(f'輸入的身高: {height} 公分 不在 120 ~ 220 範圍內')\n",
    "    height /= 100\n",
    "    weight = eval(input('請輸入你的體重(公斤 kg):'))\n",
    "    if weight < 30.0 or weight > 200.0:\n",
    "        raise Exception(f'輸入的體重: {weight:.2f} 公斤 不在 30 ~ 200 範圍內')\n",
    "    bmicalculate = weight / height ** 2\n",
    "except ValueError:\n",
    "    print('輸入發生錯誤')\n",
    "except Exception as e :\n",
    "    print(e)\n",
    "else:\n",
    "    print(f'你的身高:{height*100} 公分')\n",
    "    print(f'你的體重:{weight:.2f} 公斤')\n",
    "    print(f'你的 BMI值為:{bmicalculate:.2f}')\n",
    "    if bmicalculate < 18.5:\n",
    "        print('你的體重過輕')\n",
    "    elif bmicalculate < 24:\n",
    "        print('你的體重正常')\n",
    "    elif bmicalculate < 27:\n",
    "        print('你的體重稍微過重')\n",
    "    elif bmicalculate < 30:\n",
    "        print('你已經輕度肥胖')\n",
    "    elif bmicalculate < 35:\n",
    "        print('你已經中度肥胖')\n",
    "    else:\n",
    "        print('你已經重度肥胖')"
   ]
  }
 ],
 "metadata": {
  "kernelspec": {
   "display_name": "Python 3",
   "language": "python",
   "name": "python3"
  },
  "language_info": {
   "codemirror_mode": {
    "name": "ipython",
    "version": 3
   },
   "file_extension": ".py",
   "mimetype": "text/x-python",
   "name": "python",
   "nbconvert_exporter": "python",
   "pygments_lexer": "ipython3",
   "version": "3.12.1"
  }
 },
 "nbformat": 4,
 "nbformat_minor": 5
}
